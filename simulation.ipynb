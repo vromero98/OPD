{
 "cells": [
  {
   "cell_type": "code",
   "execution_count": 5,
   "metadata": {},
   "outputs": [],
   "source": [
    "from opd.session import Session"
   ]
  },
  {
   "cell_type": "code",
   "execution_count": 6,
   "metadata": {},
   "outputs": [],
   "source": [
    "s = Session(\"metadata.json\")"
   ]
  },
  {
   "cell_type": "code",
   "execution_count": 7,
   "metadata": {},
   "outputs": [
    {
     "data": {
      "text/html": [
       "<div>\n",
       "<style scoped>\n",
       "    .dataframe tbody tr th:only-of-type {\n",
       "        vertical-align: middle;\n",
       "    }\n",
       "\n",
       "    .dataframe tbody tr th {\n",
       "        vertical-align: top;\n",
       "    }\n",
       "\n",
       "    .dataframe thead th {\n",
       "        text-align: right;\n",
       "    }\n",
       "</style>\n",
       "<table border=\"1\" class=\"dataframe\">\n",
       "  <thead>\n",
       "    <tr style=\"text-align: right;\">\n",
       "      <th></th>\n",
       "      <th>frame</th>\n",
       "      <th>timestamp</th>\n",
       "      <th>obj1_id</th>\n",
       "      <th>obj2_id</th>\n",
       "      <th>obj1_type</th>\n",
       "      <th>obj2_type</th>\n",
       "      <th>x1</th>\n",
       "      <th>y1</th>\n",
       "      <th>x2</th>\n",
       "      <th>y2</th>\n",
       "      <th>distance</th>\n",
       "      <th>speed</th>\n",
       "    </tr>\n",
       "  </thead>\n",
       "  <tbody>\n",
       "    <tr>\n",
       "      <th>0</th>\n",
       "      <td>302.0</td>\n",
       "      <td>2022-03-23 00:00:20.133333</td>\n",
       "      <td>1195b2132bda43838666e5b699b3951d</td>\n",
       "      <td>499b5e7226d9426fab3617f4157af980</td>\n",
       "      <td>forklift</td>\n",
       "      <td>forklift</td>\n",
       "      <td>39.708894</td>\n",
       "      <td>36.883011</td>\n",
       "      <td>11.378783</td>\n",
       "      <td>-55.005309</td>\n",
       "      <td>66.444212</td>\n",
       "      <td>NaN</td>\n",
       "    </tr>\n",
       "    <tr>\n",
       "      <th>0</th>\n",
       "      <td>303.0</td>\n",
       "      <td>2022-03-23 00:00:20.200000</td>\n",
       "      <td>1195b2132bda43838666e5b699b3951d</td>\n",
       "      <td>499b5e7226d9426fab3617f4157af980</td>\n",
       "      <td>forklift</td>\n",
       "      <td>forklift</td>\n",
       "      <td>39.040946</td>\n",
       "      <td>37.506510</td>\n",
       "      <td>10.747732</td>\n",
       "      <td>-55.216486</td>\n",
       "      <td>65.982063</td>\n",
       "      <td>-6.932204</td>\n",
       "    </tr>\n",
       "    <tr>\n",
       "      <th>0</th>\n",
       "      <td>304.0</td>\n",
       "      <td>2022-03-23 00:00:20.266667</td>\n",
       "      <td>1195b2132bda43838666e5b699b3951d</td>\n",
       "      <td>499b5e7226d9426fab3617f4157af980</td>\n",
       "      <td>forklift</td>\n",
       "      <td>forklift</td>\n",
       "      <td>38.568721</td>\n",
       "      <td>37.792036</td>\n",
       "      <td>10.086290</td>\n",
       "      <td>-55.444793</td>\n",
       "      <td>65.535685</td>\n",
       "      <td>-6.695627</td>\n",
       "    </tr>\n",
       "    <tr>\n",
       "      <th>0</th>\n",
       "      <td>305.0</td>\n",
       "      <td>2022-03-23 00:00:20.333333</td>\n",
       "      <td>1195b2132bda43838666e5b699b3951d</td>\n",
       "      <td>499b5e7226d9426fab3617f4157af980</td>\n",
       "      <td>forklift</td>\n",
       "      <td>forklift</td>\n",
       "      <td>38.456043</td>\n",
       "      <td>38.407642</td>\n",
       "      <td>9.487711</td>\n",
       "      <td>-55.806435</td>\n",
       "      <td>65.294164</td>\n",
       "      <td>-3.622856</td>\n",
       "    </tr>\n",
       "    <tr>\n",
       "      <th>0</th>\n",
       "      <td>306.0</td>\n",
       "      <td>2022-03-23 00:00:20.400000</td>\n",
       "      <td>1195b2132bda43838666e5b699b3951d</td>\n",
       "      <td>499b5e7226d9426fab3617f4157af980</td>\n",
       "      <td>forklift</td>\n",
       "      <td>forklift</td>\n",
       "      <td>37.853060</td>\n",
       "      <td>35.862219</td>\n",
       "      <td>9.047253</td>\n",
       "      <td>-55.917374</td>\n",
       "      <td>64.995124</td>\n",
       "      <td>-4.485581</td>\n",
       "    </tr>\n",
       "    <tr>\n",
       "      <th>...</th>\n",
       "      <td>...</td>\n",
       "      <td>...</td>\n",
       "      <td>...</td>\n",
       "      <td>...</td>\n",
       "      <td>...</td>\n",
       "      <td>...</td>\n",
       "      <td>...</td>\n",
       "      <td>...</td>\n",
       "      <td>...</td>\n",
       "      <td>...</td>\n",
       "      <td>...</td>\n",
       "      <td>...</td>\n",
       "    </tr>\n",
       "    <tr>\n",
       "      <th>0</th>\n",
       "      <td>1430.0</td>\n",
       "      <td>2022-03-23 00:01:35.333333</td>\n",
       "      <td>499b5e7226d9426fab3617f4157af980</td>\n",
       "      <td>630f114f1d7e45808606a3ef82ced639</td>\n",
       "      <td>forklift</td>\n",
       "      <td>forklift</td>\n",
       "      <td>8.564116</td>\n",
       "      <td>-56.112702</td>\n",
       "      <td>-16.557571</td>\n",
       "      <td>-47.227695</td>\n",
       "      <td>71.580355</td>\n",
       "      <td>-16.002148</td>\n",
       "    </tr>\n",
       "    <tr>\n",
       "      <th>0</th>\n",
       "      <td>1431.0</td>\n",
       "      <td>2022-03-23 00:01:35.400000</td>\n",
       "      <td>499b5e7226d9426fab3617f4157af980</td>\n",
       "      <td>630f114f1d7e45808606a3ef82ced639</td>\n",
       "      <td>forklift</td>\n",
       "      <td>forklift</td>\n",
       "      <td>8.561094</td>\n",
       "      <td>-56.109464</td>\n",
       "      <td>-17.034366</td>\n",
       "      <td>-47.462581</td>\n",
       "      <td>71.471374</td>\n",
       "      <td>-1.634701</td>\n",
       "    </tr>\n",
       "    <tr>\n",
       "      <th>0</th>\n",
       "      <td>1432.0</td>\n",
       "      <td>2022-03-23 00:01:35.466667</td>\n",
       "      <td>499b5e7226d9426fab3617f4157af980</td>\n",
       "      <td>630f114f1d7e45808606a3ef82ced639</td>\n",
       "      <td>forklift</td>\n",
       "      <td>forklift</td>\n",
       "      <td>8.555995</td>\n",
       "      <td>-56.104279</td>\n",
       "      <td>-17.662678</td>\n",
       "      <td>-47.337027</td>\n",
       "      <td>71.144347</td>\n",
       "      <td>-4.905392</td>\n",
       "    </tr>\n",
       "    <tr>\n",
       "      <th>0</th>\n",
       "      <td>1433.0</td>\n",
       "      <td>2022-03-23 00:01:35.533333</td>\n",
       "      <td>499b5e7226d9426fab3617f4157af980</td>\n",
       "      <td>630f114f1d7e45808606a3ef82ced639</td>\n",
       "      <td>forklift</td>\n",
       "      <td>forklift</td>\n",
       "      <td>8.562222</td>\n",
       "      <td>-56.110378</td>\n",
       "      <td>-18.588459</td>\n",
       "      <td>-47.298547</td>\n",
       "      <td>70.758846</td>\n",
       "      <td>-5.782560</td>\n",
       "    </tr>\n",
       "    <tr>\n",
       "      <th>0</th>\n",
       "      <td>1434.0</td>\n",
       "      <td>2022-03-23 00:01:35.600000</td>\n",
       "      <td>499b5e7226d9426fab3617f4157af980</td>\n",
       "      <td>630f114f1d7e45808606a3ef82ced639</td>\n",
       "      <td>forklift</td>\n",
       "      <td>forklift</td>\n",
       "      <td>8.563611</td>\n",
       "      <td>-56.113359</td>\n",
       "      <td>-23.526897</td>\n",
       "      <td>-43.525889</td>\n",
       "      <td>67.698377</td>\n",
       "      <td>-45.906816</td>\n",
       "    </tr>\n",
       "  </tbody>\n",
       "</table>\n",
       "<p>452 rows × 12 columns</p>\n",
       "</div>"
      ],
      "text/plain": [
       "     frame                  timestamp                           obj1_id  \\\n",
       "0    302.0 2022-03-23 00:00:20.133333  1195b2132bda43838666e5b699b3951d   \n",
       "0    303.0 2022-03-23 00:00:20.200000  1195b2132bda43838666e5b699b3951d   \n",
       "0    304.0 2022-03-23 00:00:20.266667  1195b2132bda43838666e5b699b3951d   \n",
       "0    305.0 2022-03-23 00:00:20.333333  1195b2132bda43838666e5b699b3951d   \n",
       "0    306.0 2022-03-23 00:00:20.400000  1195b2132bda43838666e5b699b3951d   \n",
       "..     ...                        ...                               ...   \n",
       "0   1430.0 2022-03-23 00:01:35.333333  499b5e7226d9426fab3617f4157af980   \n",
       "0   1431.0 2022-03-23 00:01:35.400000  499b5e7226d9426fab3617f4157af980   \n",
       "0   1432.0 2022-03-23 00:01:35.466667  499b5e7226d9426fab3617f4157af980   \n",
       "0   1433.0 2022-03-23 00:01:35.533333  499b5e7226d9426fab3617f4157af980   \n",
       "0   1434.0 2022-03-23 00:01:35.600000  499b5e7226d9426fab3617f4157af980   \n",
       "\n",
       "                             obj2_id obj1_type obj2_type         x1  \\\n",
       "0   499b5e7226d9426fab3617f4157af980  forklift  forklift  39.708894   \n",
       "0   499b5e7226d9426fab3617f4157af980  forklift  forklift  39.040946   \n",
       "0   499b5e7226d9426fab3617f4157af980  forklift  forklift  38.568721   \n",
       "0   499b5e7226d9426fab3617f4157af980  forklift  forklift  38.456043   \n",
       "0   499b5e7226d9426fab3617f4157af980  forklift  forklift  37.853060   \n",
       "..                               ...       ...       ...        ...   \n",
       "0   630f114f1d7e45808606a3ef82ced639  forklift  forklift   8.564116   \n",
       "0   630f114f1d7e45808606a3ef82ced639  forklift  forklift   8.561094   \n",
       "0   630f114f1d7e45808606a3ef82ced639  forklift  forklift   8.555995   \n",
       "0   630f114f1d7e45808606a3ef82ced639  forklift  forklift   8.562222   \n",
       "0   630f114f1d7e45808606a3ef82ced639  forklift  forklift   8.563611   \n",
       "\n",
       "           y1         x2         y2   distance      speed  \n",
       "0   36.883011  11.378783 -55.005309  66.444212        NaN  \n",
       "0   37.506510  10.747732 -55.216486  65.982063  -6.932204  \n",
       "0   37.792036  10.086290 -55.444793  65.535685  -6.695627  \n",
       "0   38.407642   9.487711 -55.806435  65.294164  -3.622856  \n",
       "0   35.862219   9.047253 -55.917374  64.995124  -4.485581  \n",
       "..        ...        ...        ...        ...        ...  \n",
       "0  -56.112702 -16.557571 -47.227695  71.580355 -16.002148  \n",
       "0  -56.109464 -17.034366 -47.462581  71.471374  -1.634701  \n",
       "0  -56.104279 -17.662678 -47.337027  71.144347  -4.905392  \n",
       "0  -56.110378 -18.588459 -47.298547  70.758846  -5.782560  \n",
       "0  -56.113359 -23.526897 -43.525889  67.698377 -45.906816  \n",
       "\n",
       "[452 rows x 12 columns]"
      ]
     },
     "execution_count": 7,
     "metadata": {},
     "output_type": "execute_result"
    }
   ],
   "source": [
    "s.stat_table"
   ]
  },
  {
   "cell_type": "code",
   "execution_count": 14,
   "metadata": {},
   "outputs": [
    {
     "data": {
      "text/plain": [
       "'2022-03-23T00:00:00.066667'"
      ]
     },
     "execution_count": 14,
     "metadata": {},
     "output_type": "execute_result"
    }
   ],
   "source": [
    "s.min_time"
   ]
  },
  {
   "cell_type": "code",
   "execution_count": 15,
   "metadata": {},
   "outputs": [
    {
     "data": {
      "text/plain": [
       "'2022-03-23T00:01:45.266667'"
      ]
     },
     "execution_count": 15,
     "metadata": {},
     "output_type": "execute_result"
    }
   ],
   "source": [
    "s.max_time"
   ]
  },
  {
   "cell_type": "code",
   "execution_count": 7,
   "metadata": {},
   "outputs": [
    {
     "data": {
      "text/plain": [
       "defaultdict(<function opd.session.Session.get_distances.<locals>.<lambda>()>,\n",
       "            {})"
      ]
     },
     "execution_count": 7,
     "metadata": {},
     "output_type": "execute_result"
    }
   ],
   "source": [
    "s.get_distances(307)"
   ]
  },
  {
   "cell_type": "code",
   "execution_count": 16,
   "metadata": {},
   "outputs": [
    {
     "data": {
      "text/plain": [
       "defaultdict(<function opd.session.Session.get_distances.<locals>.<lambda>()>,\n",
       "            {('197c0e2976244a6088ae2944e91b68e3',\n",
       "              '1195b2132bda43838666e5b699b3951d'): 54.20453985066529,\n",
       "             ('197c0e2976244a6088ae2944e91b68e3',\n",
       "              '499b5e7226d9426fab3617f4157af980'): 9.572832228352153})"
      ]
     },
     "execution_count": 16,
     "metadata": {},
     "output_type": "execute_result"
    }
   ],
   "source": [
    "s.get_distances(337)"
   ]
  },
  {
   "cell_type": "code",
   "execution_count": 17,
   "metadata": {},
   "outputs": [
    {
     "data": {
      "text/plain": [
       "defaultdict(<function opd.session.Session.get_distances.<locals>.<lambda>()>,\n",
       "            {('197c0e2976244a6088ae2944e91b68e3',\n",
       "              '1195b2132bda43838666e5b699b3951d'): 49.105328324547386,\n",
       "             ('197c0e2976244a6088ae2944e91b68e3',\n",
       "              '499b5e7226d9426fab3617f4157af980'): 16.276839499553503})"
      ]
     },
     "execution_count": 17,
     "metadata": {},
     "output_type": "execute_result"
    }
   ],
   "source": [
    "s.get_distances(337,2)"
   ]
  },
  {
   "cell_type": "code",
   "execution_count": 8,
   "metadata": {},
   "outputs": [],
   "source": [
    "df = s.stat_table"
   ]
  },
  {
   "cell_type": "code",
   "execution_count": 19,
   "metadata": {},
   "outputs": [
    {
     "data": {
      "text/plain": [
       "(452, 12)"
      ]
     },
     "execution_count": 19,
     "metadata": {},
     "output_type": "execute_result"
    }
   ],
   "source": [
    "df.shape"
   ]
  },
  {
   "cell_type": "code",
   "execution_count": 20,
   "metadata": {},
   "outputs": [
    {
     "data": {
      "text/plain": [
       "{'forklift', 'person'}"
      ]
     },
     "execution_count": 20,
     "metadata": {},
     "output_type": "execute_result"
    }
   ],
   "source": [
    "set(df['obj2_type'])"
   ]
  },
  {
   "cell_type": "code",
   "execution_count": 21,
   "metadata": {},
   "outputs": [
    {
     "data": {
      "text/plain": [
       "(452, 12)"
      ]
     },
     "execution_count": 21,
     "metadata": {},
     "output_type": "execute_result"
    }
   ],
   "source": [
    "df.shape"
   ]
  },
  {
   "cell_type": "code",
   "execution_count": 22,
   "metadata": {},
   "outputs": [],
   "source": [
    "search = (df['obj1_id'] == \"1195b2132bda43838666e5b699b3951d\") &  (df[\"obj2_id\"] == \"499b5e7226d9426fab3617f4157af980\")"
   ]
  },
  {
   "cell_type": "code",
   "execution_count": 23,
   "metadata": {},
   "outputs": [
    {
     "data": {
      "text/plain": [
       "75.93274994017251"
      ]
     },
     "execution_count": 23,
     "metadata": {},
     "output_type": "execute_result"
    }
   ],
   "source": [
    "x = float(df[search].iloc[[-1]]['distance'])\n",
    "x"
   ]
  },
  {
   "cell_type": "code",
   "execution_count": 24,
   "metadata": {},
   "outputs": [
    {
     "data": {
      "text/plain": [
       "<detection.Detection at 0x7f95c60892b0>"
      ]
     },
     "execution_count": 24,
     "metadata": {},
     "output_type": "execute_result"
    }
   ],
   "source": [
    "s.detections['1195b2132bda43838666e5b699b3951d']"
   ]
  },
  {
   "cell_type": "code",
   "execution_count": 1,
   "metadata": {},
   "outputs": [],
   "source": [
    "import json\n",
    "import pandas as pd"
   ]
  },
  {
   "cell_type": "code",
   "execution_count": 40,
   "metadata": {},
   "outputs": [],
   "source": [
    "event_metadata = {}\n",
    "event_metadata[\"derivations\"] = json.loads(df.to_json(orient='records'))\n",
    "event_metadata[\"detections\"] = json.load(open(\"metadata.json\",'r'))"
   ]
  },
  {
   "cell_type": "code",
   "execution_count": 41,
   "metadata": {},
   "outputs": [],
   "source": [
    "with open(\"event_metadata.json\",'w') as f:\n",
    "    json.dump(event_metadata,f)"
   ]
  }
 ],
 "metadata": {
  "kernelspec": {
   "display_name": "Python 3.8.10 64-bit",
   "language": "python",
   "name": "python3"
  },
  "language_info": {
   "codemirror_mode": {
    "name": "ipython",
    "version": 3
   },
   "file_extension": ".py",
   "mimetype": "text/x-python",
   "name": "python",
   "nbconvert_exporter": "python",
   "pygments_lexer": "ipython3",
   "version": "3.8.10"
  },
  "orig_nbformat": 2,
  "vscode": {
   "interpreter": {
    "hash": "916dbcbb3f70747c44a77c7bcd40155683ae19c65e1c03b4aa3499c5328201f1"
   }
  }
 },
 "nbformat": 4,
 "nbformat_minor": 2
}
